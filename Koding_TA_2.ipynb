{
 "cells": [
  {
   "cell_type": "code",
   "execution_count": 1,
   "metadata": {},
   "outputs": [],
   "source": [
    "import pandas as pd\n",
    "from Sastrawi.Stemmer.StemmerFactory import StemmerFactory\n",
    "import nltk\n",
    "import numpy as np\n",
    "import string\n",
    "from Sastrawi.StopWordRemover.StopWordRemoverFactory import StopWordRemoverFactory,StopWordRemover,ArrayDictionary\n",
    "from sklearn.feature_extraction.text import TfidfVectorizer\n",
    "from sklearn.model_selection import train_test_split\n",
    "from sklearn import tree\n",
    "from sklearn.naive_bayes import MultinomialNB\n",
    "import graphviz"
   ]
  },
  {
   "cell_type": "code",
   "execution_count": 2,
   "metadata": {},
   "outputs": [],
   "source": [
    "data_itv = pd.read_csv('Clean_Dataset.csv',delimiter=',', header=None)"
   ]
  },
  {
   "cell_type": "code",
   "execution_count": 3,
   "metadata": {},
   "outputs": [],
   "source": [
    "#array of 9 behavior\n",
    "bvr1=[];bvr2=[];bvr3=[];bvr4=[];bvr5=[];bvr6=[];bvr7=[];bvr8=[];bvr9=[]\n",
    "\n",
    "bvr1.append([]);bvr1.append([])\n",
    "bvr2.append([]);bvr2.append([])\n",
    "bvr3.append([]);bvr3.append([])\n",
    "bvr4.append([]);bvr4.append([])\n",
    "bvr5.append([]);bvr5.append([])\n",
    "bvr6.append([]);bvr6.append([])\n",
    "bvr7.append([]);bvr7.append([])\n",
    "bvr8.append([]);bvr8.append([])\n",
    "bvr9.append([]);bvr9.append([])"
   ]
  },
  {
   "cell_type": "code",
   "execution_count": 4,
   "metadata": {},
   "outputs": [],
   "source": [
    "#input data to ninth array\n",
    "i=1\n",
    "while i <=len(data_itv)-1:\n",
    "    if data_itv[3][i]=='1' or data_itv[3][i]=='2' or data_itv[3][i]=='3':\n",
    "        bvr1[0].append(data_itv[2][i])\n",
    "        bvr1[1].append(data_itv[3][i])\n",
    "    elif data_itv[4][i]=='1' or data_itv[4][i]=='2' or data_itv[4][i]=='3':\n",
    "        bvr2[0].append(data_itv[2][i])\n",
    "        bvr2[1].append(data_itv[4][i])\n",
    "    elif data_itv[5][i]=='1' or data_itv[5][i]=='2' or data_itv[5][i]=='3':\n",
    "        bvr3[0].append(data_itv[2][i])\n",
    "        bvr3[1].append(data_itv[5][i])\n",
    "    elif data_itv[6][i]=='1' or data_itv[6][i]=='2' or data_itv[6][i]=='3':\n",
    "        bvr4[0].append(data_itv[2][i])\n",
    "        bvr4[1].append(data_itv[6][i])\n",
    "    elif data_itv[7][i]=='1' or data_itv[7][i]=='2' or data_itv[7][i]=='3':\n",
    "        bvr5[0].append(data_itv[2][i])\n",
    "        bvr5[1].append(data_itv[7][i])\n",
    "    elif data_itv[8][i]=='1' or data_itv[8][i]=='2' or data_itv[8][i]=='3':\n",
    "        bvr6[0].append(data_itv[2][i])\n",
    "        bvr6[1].append(data_itv[8][i])\n",
    "    elif data_itv[9][i]=='1' or data_itv[9][i]=='2' or data_itv[9][i]=='3':\n",
    "        bvr7[0].append(data_itv[2][i])\n",
    "        bvr7[1].append(data_itv[9][i])\n",
    "    elif data_itv[10][i]=='1' or data_itv[10][i]=='2' or data_itv[10][i]=='3':\n",
    "        bvr8[0].append(data_itv[2][i])\n",
    "        bvr8[1].append(data_itv[10][i])\n",
    "    elif data_itv[11][i]=='1' or data_itv[11][i]=='2' or data_itv[11][i]=='3':\n",
    "        bvr9[0].append(data_itv[2][i])\n",
    "        bvr9[1].append(data_itv[11][i])\n",
    "    i+=1"
   ]
  },
  {
   "cell_type": "code",
   "execution_count": 5,
   "metadata": {},
   "outputs": [],
   "source": [
    "# get text from dataset\n",
    "# teks1=[];teks2=[];teks3=[];teks4=[];teks5=[];teks6=[];teks7=[];teks8=[];teks9=[]\n",
    "\n",
    "# i=0\n",
    "# while i<=len(bvr1[0])-1:\n",
    "#     teks1.append(bvr1[0][i])\n",
    "#     teks2.append(bvr2[0][i])\n",
    "#     teks3.append(bvr3[0][i])\n",
    "#     teks8.append(bvr8[0][i])\n",
    "#     i+=1\n",
    "    \n",
    "# j=0\n",
    "# while j<=len(bvr5[0])-1:\n",
    "#     teks5.append(bvr5[0][j])\n",
    "#     teks6.append(bvr6[0][j])\n",
    "#     j+=1\n",
    "    \n",
    "# k=0\n",
    "# while k<=len(bvr4[0])-1:\n",
    "#     teks4.append(bvr4[0][k])\n",
    "#     teks7.append(bvr7[0][k])\n",
    "#     k+=1\n",
    "    \n",
    "# m=0\n",
    "# while m<=len(bvr9[0])-1:\n",
    "#     teks9.append(bvr9[0][m])\n",
    "#     m+=1"
   ]
  },
  {
   "cell_type": "code",
   "execution_count": 6,
   "metadata": {},
   "outputs": [],
   "source": [
    "# delete some word from liststopword and add to liststopword\n",
    "# fact = StopWordRemoverFactory()\n",
    "# list_stopword = fact.get_stop_words()\n",
    "# remove_stopword=['aku','apabila','balik','bisa','bila','bertanya','biasa','biasanya','belum','baik','bekerja','berkeinginan',\n",
    "#                 'berlebihan','bertanya','bertanya-tanya','bukan','cara','caranya','diri','dapat','dikerjakan','diperlukan',\n",
    "#                 'enggak','harus','jawab','jangan','jika','kerja','kepada','kalau','lebih','melakukan','mau','mungkin','masalah',\n",
    "#                 'masalahnya','namun','orang','penting','saya','sudah','sendiri','tadi','terlebih','tidak','tanya','yang']\n",
    "# for x in remove_stopword:\n",
    "#     for y in list_stopword:\n",
    "#         if x==y:\n",
    "#             list_stopword.remove(y)\n",
    "\n",
    "# add_stopword=['mah','gitu']\n",
    "# update_stopword=list_stopword+add_stopword\n",
    "# dictionary=ArrayDictionary(update_stopword)"
   ]
  },
  {
   "cell_type": "code",
   "execution_count": 7,
   "metadata": {},
   "outputs": [
    {
     "name": "stdout",
     "output_type": "stream",
     "text": [
      "51\n",
      "51\n",
      "51\n",
      "46\n",
      "48\n",
      "48\n",
      "47\n",
      "49\n",
      "49\n"
     ]
    }
   ],
   "source": [
    "print(len(bvr1[0]))\n",
    "print(len(bvr2[0]))\n",
    "print(len(bvr3[0]))\n",
    "print(len(bvr4[0]))\n",
    "print(len(bvr5[0]))\n",
    "print(len(bvr6[0]))\n",
    "print(len(bvr7[0]))\n",
    "print(len(bvr8[0]))\n",
    "print(len(bvr9[0]))"
   ]
  },
  {
   "cell_type": "code",
   "execution_count": 8,
   "metadata": {},
   "outputs": [],
   "source": [
    "#preprocessing casefolding and remove punctuation phase\n",
    "for j in range(len(bvr1[0])):\n",
    "    bvr1[0][j]=bvr1[0][j].translate(str.maketrans('','',string.punctuation)).lower()\n",
    "    bvr2[0][j]=bvr2[0][j].translate(str.maketrans('','',string.punctuation)).lower()\n",
    "    bvr3[0][j]=bvr3[0][j].translate(str.maketrans('','',string.punctuation)).lower()\n",
    "    \n",
    "for p in range(len(bvr4[0])):\n",
    "    bvr4[0][p]=bvr4[0][p].translate(str.maketrans('','',string.punctuation)).lower()\n",
    "    \n",
    "for k in range(len(bvr5[0])):\n",
    "    bvr5[0][k]=bvr5[0][k].translate(str.maketrans('','',string.punctuation)).lower()\n",
    "    bvr6[0][k]=bvr6[0][k].translate(str.maketrans('','',string.punctuation)).lower()\n",
    "    \n",
    "for m in range(len(bvr7[0])):\n",
    "    bvr7[0][m]=bvr7[0][m].translate(str.maketrans('','',string.punctuation)).lower()\n",
    "    \n",
    "for n in range(len(bvr8[0])):\n",
    "    bvr8[0][n]=bvr8[0][n].translate(str.maketrans('','',string.punctuation)).lower()\n",
    "    bvr9[0][n]=bvr9[0][n].translate(str.maketrans('','',string.punctuation)).lower()"
   ]
  },
  {
   "cell_type": "code",
   "execution_count": 9,
   "metadata": {},
   "outputs": [],
   "source": [
    "# preprocessing stopword removal phase\n",
    "# stopword=StopWordRemover(dictionary)\n",
    "factory = StopWordRemoverFactory()\n",
    "stopword = factory.create_stop_word_remover()\n",
    "for word1 in range(len(bvr1[0])):\n",
    "    useword1=stopword.remove(bvr1[0][word1])\n",
    "    bvr1[0][word1]=useword1\n",
    "    useword2=stopword.remove(bvr2[0][word1])\n",
    "    bvr2[0][word1]=useword2\n",
    "    useword3=stopword.remove(bvr3[0][word1])\n",
    "    bvr3[0][word1]=useword3\n",
    "    \n",
    "for word3 in range(len(bvr4[0])):\n",
    "    useword4=stopword.remove(bvr4[0][word3])\n",
    "    bvr4[0][word3]=useword4\n",
    "    \n",
    "for word2 in range(len(bvr5[0])):\n",
    "    useword5=stopword.remove(bvr5[0][word2])\n",
    "    bvr5[0][word2]=useword5\n",
    "    useword6=stopword.remove(bvr6[0][word2])\n",
    "    bvr6[0][word2]=useword6\n",
    "    \n",
    "for word5 in range(len(bvr7[0])):\n",
    "    useword7=stopword.remove(bvr7[0][word5])\n",
    "    bvr7[0][word5]=useword7\n",
    "    \n",
    "for word4 in range(len(bvr8[0])):\n",
    "    useword8=stopword.remove(bvr8[0][word4])\n",
    "    bvr8[0][word4]=useword8\n",
    "    useword9=stopword.remove(bvr9[0][word4])\n",
    "    bvr9[0][word4]=useword9"
   ]
  },
  {
   "cell_type": "code",
   "execution_count": 10,
   "metadata": {},
   "outputs": [],
   "source": [
    "# preprocessing stemming phase\n",
    "\n",
    "factory=StemmerFactory()\n",
    "stemmer=factory.create_stemmer()\n",
    "for bword1 in range(len(bvr1[0])):\n",
    "    stem1=stemmer.stem(bvr1[0][bword1])\n",
    "    bvr1[0][bword1]=stem1\n",
    "    stem2=stemmer.stem(bvr2[0][bword1])\n",
    "    bvr2[0][bword1]=stem2\n",
    "    stem3=stemmer.stem(bvr3[0][bword1])\n",
    "    bvr3[0][bword1]=stem3\n",
    "    \n",
    "for bword3 in range(len(bvr4[0])):\n",
    "    stem4=stemmer.stem(bvr4[0][bword3])\n",
    "    bvr4[0][bword3]=stem4\n",
    "    \n",
    "for bword2 in range(len(bvr5[0])):\n",
    "    stem5=stemmer.stem(bvr5[0][bword2])\n",
    "    bvr5[0][bword2]=stem5\n",
    "    stem6=stemmer.stem(bvr6[0][bword2])\n",
    "    bvr6[0][bword2]=stem6\n",
    "    \n",
    "for bword5 in range(len(bvr7[0])):\n",
    "    stem7=stemmer.stem(bvr7[0][bword5])\n",
    "    bvr7[0][bword5]=stem7\n",
    "    \n",
    "for bword4 in range(len(bvr8[0])):\n",
    "    stem8=stemmer.stem(bvr8[0][bword4])\n",
    "    bvr8[0][bword4]=stem8\n",
    "    stem9=stemmer.stem(bvr9[0][bword4])\n",
    "    bvr9[0][bword4]=stem9"
   ]
  },
  {
   "cell_type": "code",
   "execution_count": 11,
   "metadata": {},
   "outputs": [],
   "source": [
    "vectorizer = TfidfVectorizer()\n",
    "# extract1_train = vectorizer.fit_transform(bv1T_train)\n",
    "# extract1_test = vectorizer.fit_transform(bv1T_test)\n",
    "\n",
    "# extract2_train = vectorizer.fit_transform(bv2T_train)\n",
    "# extract2_test = vectorizer.fit_transform(bv2T_test)\n",
    "\n",
    "# extract3_train = vectorizer.fit_transform(bv3T_train)\n",
    "# extract3_test = vectorizer.fit_transform(bv3T_test)\n",
    "\n",
    "# extract4_train = vectorizer.fit_transform(bv4T_train)\n",
    "# extract4_test = vectorizer.fit_transform(bv4T_test)\n",
    "\n",
    "# extract5_train = vectorizer.fit_transform(bv5T_train)\n",
    "# extract5_test = vectorizer.fit_transform(bv5T_test)\n",
    "\n",
    "# extract6_train = vectorizer.fit_transform(bv6T_train)\n",
    "# extract6_test = vectorizer.fit_transform(bv6T_test)\n",
    "\n",
    "# extract7_train = vectorizer.fit_transform(bv7T_train)\n",
    "# extract7_test = vectorizer.fit_transform(bv7T_test)\n",
    "\n",
    "# extract8_train = vectorizer.fit_transform(bv8T_train)\n",
    "# extract8_test = vectorizer.fit_transform(bv8T_test)\n",
    "\n",
    "# extract9_train = vectorizer.fit_transform(bv9T_train)\n",
    "# extract9_test = vectorizer.fit_transform(bv9T_test)\n",
    "\n",
    "extract1 = vectorizer.fit_transform(bvr1[0])\n",
    "extract2 = vectorizer.fit_transform(bvr2[0])\n",
    "extract3 = vectorizer.fit_transform(bvr3[0])\n",
    "extract4 = vectorizer.fit_transform(bvr4[0])\n",
    "extract5 = vectorizer.fit_transform(bvr5[0])\n",
    "extract6 = vectorizer.fit_transform(bvr6[0])\n",
    "extract7 = vectorizer.fit_transform(bvr7[0])\n",
    "extract8 = vectorizer.fit_transform(bvr8[0])\n",
    "extract9 = vectorizer.fit_transform(bvr9[0])"
   ]
  },
  {
   "cell_type": "code",
   "execution_count": 12,
   "metadata": {},
   "outputs": [],
   "source": [
    "# split dataset\n",
    "bv1T_train, bv1T_test, bv1C_train, bv1C_test= train_test_split(extract1, bvr1[1], test_size=0.33)\n",
    "bv2T_train, bv2T_test, bv2C_train, bv2C_test= train_test_split(extract2, bvr2[1], test_size=0.33)\n",
    "bv3T_train, bv3T_test, bv3C_train, bv3C_test= train_test_split(extract3, bvr3[1], test_size=0.33)\n",
    "bv4T_train, bv4T_test, bv4C_train, bv4C_test= train_test_split(extract4, bvr4[1], test_size=0.33)\n",
    "bv5T_train, bv5T_test, bv5C_train, bv5C_test= train_test_split(extract5, bvr5[1], test_size=0.33)\n",
    "bv6T_train, bv6T_test, bv6C_train, bv6C_test= train_test_split(extract6, bvr6[1], test_size=0.33)\n",
    "bv7T_train, bv7T_test, bv7C_train, bv7C_test= train_test_split(extract7, bvr7[1], test_size=0.33)\n",
    "bv8T_train, bv8T_test, bv8C_train, bv8C_test= train_test_split(extract8, bvr8[1], test_size=0.33)\n",
    "bv9T_train, bv9T_test, bv9C_train, bv9C_test= train_test_split(extract9, bvr9[1], test_size=0.33)"
   ]
  },
  {
   "cell_type": "code",
   "execution_count": 13,
   "metadata": {},
   "outputs": [],
   "source": [
    "#turn data train to vector to create model classifier\n",
    "datatrain1=bv1T_train.toarray()\n",
    "datatrain2=bv2T_train.toarray()\n",
    "datatrain3=bv3T_train.toarray()\n",
    "datatrain4=bv4T_train.toarray()\n",
    "datatrain5=bv5T_train.toarray()\n",
    "datatrain6=bv6T_train.toarray()\n",
    "datatrain7=bv7T_train.toarray()\n",
    "datatrain8=bv8T_train.toarray()\n",
    "datatrain9=bv9T_train.toarray()\n",
    "\n",
    "datatest1=bv1T_test.toarray()\n",
    "datatest2=bv2T_test.toarray()\n",
    "datatest3=bv3T_test.toarray()\n",
    "datatest4=bv4T_test.toarray()\n",
    "datatest5=bv5T_test.toarray()\n",
    "datatest6=bv6T_test.toarray()\n",
    "datatest7=bv7T_test.toarray()\n",
    "datatest8=bv8T_test.toarray()\n",
    "datatest9=bv9T_test.toarray()"
   ]
  },
  {
   "cell_type": "code",
   "execution_count": 14,
   "metadata": {},
   "outputs": [],
   "source": [
    "# training data to create model classifier with decision tree\n",
    "clf_dectree1=tree.DecisionTreeClassifier()\n",
    "clf_dectree2=tree.DecisionTreeClassifier()\n",
    "clf_dectree3=tree.DecisionTreeClassifier()\n",
    "clf_dectree4=tree.DecisionTreeClassifier()\n",
    "clf_dectree5=tree.DecisionTreeClassifier()\n",
    "clf_dectree6=tree.DecisionTreeClassifier()\n",
    "clf_dectree7=tree.DecisionTreeClassifier()\n",
    "clf_dectree8=tree.DecisionTreeClassifier()\n",
    "clf_dectree9=tree.DecisionTreeClassifier()\n",
    "\n",
    "clf_dectree1=clf_dectree1.fit(datatrain1,bv1C_train)\n",
    "clf_dectree2=clf_dectree2.fit(datatrain2,bv2C_train)\n",
    "clf_dectree3=clf_dectree3.fit(datatrain3,bv3C_train)\n",
    "clf_dectree4=clf_dectree4.fit(datatrain4,bv4C_train)\n",
    "clf_dectree5=clf_dectree5.fit(datatrain5,bv5C_train)\n",
    "clf_dectree6=clf_dectree6.fit(datatrain6,bv6C_train)\n",
    "clf_dectree7=clf_dectree7.fit(datatrain7,bv7C_train)\n",
    "clf_dectree8=clf_dectree8.fit(datatrain8,bv8C_train)\n",
    "clf_dectree9=clf_dectree9.fit(datatrain9,bv9C_train)"
   ]
  },
  {
   "cell_type": "code",
   "execution_count": 21,
   "metadata": {},
   "outputs": [
    {
     "data": {
      "text/plain": [
       "[Text(265.5310344827586, 203.85, 'X[500] <= 0.181\\ngini = 0.604\\nsamples = 34\\nvalue = [17, 12, 5]'),\n",
       " Text(242.44137931034481, 176.67000000000002, 'X[141] <= 0.065\\ngini = 0.58\\nsamples = 30\\nvalue = [17, 8, 5]'),\n",
       " Text(196.26206896551724, 149.49, 'X[220] <= 0.256\\ngini = 0.474\\nsamples = 25\\nvalue = [17, 6, 2]'),\n",
       " Text(173.17241379310343, 122.31, 'X[254] <= 0.093\\ngini = 0.416\\nsamples = 23\\nvalue = [17, 4, 2]'),\n",
       " Text(115.44827586206895, 95.13, 'X[172] <= 0.063\\ngini = 0.322\\nsamples = 21\\nvalue = [17, 3, 1]'),\n",
       " Text(69.26896551724138, 67.94999999999999, 'X[249] <= 0.099\\ngini = 0.188\\nsamples = 19\\nvalue = [17, 2, 0]'),\n",
       " Text(46.179310344827584, 40.77000000000001, 'X[86] <= 0.21\\ngini = 0.105\\nsamples = 18\\nvalue = [17, 1, 0]'),\n",
       " Text(23.089655172413792, 13.590000000000003, 'gini = 0.0\\nsamples = 17\\nvalue = [17, 0, 0]'),\n",
       " Text(69.26896551724138, 13.590000000000003, 'gini = 0.0\\nsamples = 1\\nvalue = [0, 1, 0]'),\n",
       " Text(92.35862068965517, 40.77000000000001, 'gini = 0.0\\nsamples = 1\\nvalue = [0, 1, 0]'),\n",
       " Text(161.62758620689655, 67.94999999999999, 'X[403] <= 0.186\\ngini = 0.5\\nsamples = 2\\nvalue = [0, 1, 1]'),\n",
       " Text(138.53793103448277, 40.77000000000001, 'gini = 0.0\\nsamples = 1\\nvalue = [0, 0, 1]'),\n",
       " Text(184.71724137931034, 40.77000000000001, 'gini = 0.0\\nsamples = 1\\nvalue = [0, 1, 0]'),\n",
       " Text(230.8965517241379, 95.13, 'X[267] <= 0.093\\ngini = 0.5\\nsamples = 2\\nvalue = [0, 1, 1]'),\n",
       " Text(207.80689655172412, 67.94999999999999, 'gini = 0.0\\nsamples = 1\\nvalue = [0, 1, 0]'),\n",
       " Text(253.98620689655172, 67.94999999999999, 'gini = 0.0\\nsamples = 1\\nvalue = [0, 0, 1]'),\n",
       " Text(219.35172413793103, 122.31, 'gini = 0.0\\nsamples = 2\\nvalue = [0, 2, 0]'),\n",
       " Text(288.6206896551724, 149.49, 'X[367] <= 0.059\\ngini = 0.48\\nsamples = 5\\nvalue = [0, 2, 3]'),\n",
       " Text(265.5310344827586, 122.31, 'gini = 0.0\\nsamples = 3\\nvalue = [0, 0, 3]'),\n",
       " Text(311.7103448275862, 122.31, 'gini = 0.0\\nsamples = 2\\nvalue = [0, 2, 0]'),\n",
       " Text(288.6206896551724, 176.67000000000002, 'gini = 0.0\\nsamples = 4\\nvalue = [0, 4, 0]')]"
      ]
     },
     "execution_count": 21,
     "metadata": {},
     "output_type": "execute_result"
    },
    {
     "data": {
      "image/png": "[encoded data removed]",
      "text/plain": [
       "<Figure size 432x288 with 1 Axes>"
      ]
     },
     "metadata": {
      "needs_background": "light"
     },
     "output_type": "display_data"
    }
   ],
   "source": [
    "tree.plot_tree(clf_dectree1)"
   ]
  },
  {
   "cell_type": "code",
   "execution_count": 16,
   "metadata": {},
   "outputs": [],
   "source": [
    "# test model classification with decision tree\n",
    "testdata1=clf_dectree1.predict(datatest1)\n",
    "testdata2=clf_dectree2.predict(datatest2)\n",
    "testdata3=clf_dectree3.predict(datatest3)\n",
    "testdata4=clf_dectree4.predict(datatest4)\n",
    "testdata5=clf_dectree5.predict(datatest5)\n",
    "testdata6=clf_dectree6.predict(datatest6)\n",
    "testdata7=clf_dectree7.predict(datatest7)\n",
    "testdata8=clf_dectree8.predict(datatest8)\n",
    "testdata9=clf_dectree9.predict(datatest9)"
   ]
  },
  {
   "cell_type": "code",
   "execution_count": 17,
   "metadata": {},
   "outputs": [],
   "source": [
    "# training data to create model classifier with Multinomial Naive Bayes\n",
    "clf_MNB1=MultinomialNB()\n",
    "clf_MNB2=MultinomialNB()\n",
    "clf_MNB3=MultinomialNB()\n",
    "clf_MNB4=MultinomialNB()\n",
    "clf_MNB5=MultinomialNB()\n",
    "clf_MNB6=MultinomialNB()\n",
    "clf_MNB7=MultinomialNB()\n",
    "clf_MNB8=MultinomialNB()\n",
    "clf_MNB9=MultinomialNB()\n",
    "\n",
    "clf_MNB1=clf_MNB1.fit(datatrain1,bv1C_train)\n",
    "clf_MNB2=clf_MNB2.fit(datatrain2,bv2C_train)\n",
    "clf_MNB3=clf_MNB3.fit(datatrain3,bv3C_train)\n",
    "clf_MNB4=clf_MNB4.fit(datatrain4,bv4C_train)\n",
    "clf_MNB5=clf_MNB5.fit(datatrain5,bv5C_train)\n",
    "clf_MNB6=clf_MNB6.fit(datatrain6,bv6C_train)\n",
    "clf_MNB7=clf_MNB7.fit(datatrain7,bv7C_train)\n",
    "clf_MNB8=clf_MNB8.fit(datatrain8,bv8C_train)\n",
    "clf_MNB9=clf_MNB9.fit(datatrain9,bv9C_train)"
   ]
  },
  {
   "cell_type": "code",
   "execution_count": 18,
   "metadata": {},
   "outputs": [],
   "source": [
    "# test model classification with Multinomial Naive Bayes\n",
    "\n",
    "test_MNB1=clf_MNB1.predict(datatest1)\n",
    "test_MNB2=clf_MNB2.predict(datatest2)\n",
    "test_MNB3=clf_MNB3.predict(datatest3)\n",
    "test_MNB4=clf_MNB4.predict(datatest4)\n",
    "test_MNB5=clf_MNB5.predict(datatest5)\n",
    "test_MNB6=clf_MNB6.predict(datatest6)\n",
    "test_MNB7=clf_MNB7.predict(datatest7)\n",
    "test_MNB8=clf_MNB8.predict(datatest8)\n",
    "test_MNB9=clf_MNB9.predict(datatest9)"
   ]
  },
  {
   "cell_type": "code",
   "execution_count": 19,
   "metadata": {},
   "outputs": [
    {
     "name": "stdout",
     "output_type": "stream",
     "text": [
      "accuracy for decision tree:\n",
      "0.4117647058823529\n",
      "0.35294117647058826\n",
      "0.23529411764705882\n",
      "0.6875\n",
      "0.5625\n",
      "0.3125\n",
      "0.4375\n",
      "0.35294117647058826\n",
      "0.35294117647058826\n"
     ]
    }
   ],
   "source": [
    "# accuracy decision tree model\n",
    "\n",
    "acc_dectree1=clf_dectree1.score(datatest1,bv1C_test)\n",
    "acc_dectree2=clf_dectree2.score(datatest2,bv2C_test)\n",
    "acc_dectree3=clf_dectree3.score(datatest3,bv3C_test)\n",
    "acc_dectree4=clf_dectree4.score(datatest4,bv4C_test)\n",
    "acc_dectree5=clf_dectree5.score(datatest5,bv5C_test)\n",
    "acc_dectree6=clf_dectree6.score(datatest6,bv6C_test)\n",
    "acc_dectree7=clf_dectree7.score(datatest7,bv7C_test)\n",
    "acc_dectree8=clf_dectree8.score(datatest8,bv8C_test)\n",
    "acc_dectree9=clf_dectree9.score(datatest9,bv9C_test)\n",
    "\n",
    "print('accuracy for decision tree:')\n",
    "print(acc_dectree1)\n",
    "print(acc_dectree2)\n",
    "print(acc_dectree3)\n",
    "print(acc_dectree4)\n",
    "print(acc_dectree5)\n",
    "print(acc_dectree6)\n",
    "print(acc_dectree7)\n",
    "print(acc_dectree8)\n",
    "print(acc_dectree9)"
   ]
  },
  {
   "cell_type": "code",
   "execution_count": 20,
   "metadata": {},
   "outputs": [
    {
     "name": "stdout",
     "output_type": "stream",
     "text": [
      "accuracy for Multinomial NB :\n",
      "0.35294117647058826\n",
      "0.35294117647058826\n",
      "0.5294117647058824\n",
      "0.625\n",
      "0.5625\n",
      "0.5625\n",
      "0.5625\n",
      "0.35294117647058826\n",
      "0.47058823529411764\n"
     ]
    }
   ],
   "source": [
    "# accuracy Multinomial Naive Bayes model\n",
    "\n",
    "acc_MNB1=clf_MNB1.score(datatest1,bv1C_test)\n",
    "acc_MNB2=clf_MNB2.score(datatest2,bv2C_test)\n",
    "acc_MNB3=clf_MNB3.score(datatest3,bv3C_test)\n",
    "acc_MNB4=clf_MNB4.score(datatest4,bv4C_test)\n",
    "acc_MNB5=clf_MNB5.score(datatest5,bv5C_test)\n",
    "acc_MNB6=clf_MNB6.score(datatest6,bv6C_test)\n",
    "acc_MNB7=clf_MNB7.score(datatest7,bv7C_test)\n",
    "acc_MNB8=clf_MNB8.score(datatest8,bv8C_test)\n",
    "acc_MNB9=clf_MNB9.score(datatest9,bv9C_test)\n",
    "\n",
    "print('accuracy for Multinomial NB :')\n",
    "print(acc_MNB1)\n",
    "print(acc_MNB2)\n",
    "print(acc_MNB3)\n",
    "print(acc_MNB4)\n",
    "print(acc_MNB5)\n",
    "print(acc_MNB6)\n",
    "print(acc_MNB7)\n",
    "print(acc_MNB8)\n",
    "print(acc_MNB9)"
   ]
  },
  {
   "cell_type": "code",
   "execution_count": null,
   "metadata": {},
   "outputs": [],
   "source": []
  }
 ],
 "metadata": {
  "kernelspec": {
   "display_name": "Python 3",
   "language": "python",
   "name": "python3"
  },
  "language_info": {
   "codemirror_mode": {
    "name": "ipython",
    "version": 3
   },
   "file_extension": ".py",
   "mimetype": "text/x-python",
   "name": "python",
   "nbconvert_exporter": "python",
   "pygments_lexer": "ipython3",
   "version": "3.7.4"
  }
 },
 "nbformat": 4,
 "nbformat_minor": 2
}
