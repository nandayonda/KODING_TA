{
 "cells": [
  {
   "cell_type": "code",
   "execution_count": 1,
   "metadata": {},
   "outputs": [],
   "source": [
    "import pandas as pd\n",
    "from Sastrawi.Stemmer.StemmerFactory import StemmerFactory\n",
    "import nltk\n",
    "import numpy as np\n",
    "import string\n",
    "from Sastrawi.StopWordRemover.StopWordRemoverFactory import StopWordRemoverFactory,StopWordRemover,ArrayDictionary\n",
    "from sklearn.feature_extraction.text import TfidfVectorizer"
   ]
  },
  {
   "cell_type": "code",
   "execution_count": 2,
   "metadata": {},
   "outputs": [],
   "source": [
    "data_itv = pd.read_csv('Clean_Dataset.csv',delimiter=',', header=None)"
   ]
  },
  {
   "cell_type": "code",
   "execution_count": 3,
   "metadata": {},
   "outputs": [],
   "source": [
    "#array of 9 behavior\n",
    "bvr1=[];bvr2=[];bvr3=[];bvr4=[];bvr5=[];bvr6=[];bvr7=[];bvr8=[];bvr9=[]\n",
    "\n",
    "bvr1.append([]);bvr1.append([])\n",
    "bvr2.append([]);bvr2.append([])\n",
    "bvr3.append([]);bvr3.append([])\n",
    "bvr4.append([]);bvr4.append([])\n",
    "bvr5.append([]);bvr5.append([])\n",
    "bvr6.append([]);bvr6.append([])\n",
    "bvr7.append([]);bvr7.append([])\n",
    "bvr8.append([]);bvr8.append([])\n",
    "bvr9.append([]);bvr9.append([])"
   ]
  },
  {
   "cell_type": "code",
   "execution_count": 4,
   "metadata": {},
   "outputs": [],
   "source": [
    "#input data to ninth array\n",
    "i=1\n",
    "while i <=len(data_itv)-1:\n",
    "    if data_itv[3][i]=='1' or data_itv[3][i]=='2' or data_itv[3][i]=='3':\n",
    "        bvr1[0].append(data_itv[2][i])\n",
    "        bvr1[1].append(data_itv[3][i])\n",
    "    elif data_itv[4][i]=='1' or data_itv[4][i]=='2' or data_itv[4][i]=='3':\n",
    "        bvr2[0].append(data_itv[2][i])\n",
    "        bvr2[1].append(data_itv[4][i])\n",
    "    elif data_itv[5][i]=='1' or data_itv[5][i]=='2' or data_itv[5][i]=='3':\n",
    "        bvr3[0].append(data_itv[2][i])\n",
    "        bvr3[1].append(data_itv[5][i])\n",
    "    elif data_itv[6][i]=='1' or data_itv[6][i]=='2' or data_itv[6][i]=='3':\n",
    "        bvr4[0].append(data_itv[2][i])\n",
    "        bvr4[1].append(data_itv[6][i])\n",
    "    elif data_itv[7][i]=='1' or data_itv[7][i]=='2' or data_itv[7][i]=='3':\n",
    "        bvr5[0].append(data_itv[2][i])\n",
    "        bvr5[1].append(data_itv[7][i])\n",
    "    elif data_itv[8][i]=='1' or data_itv[8][i]=='2' or data_itv[8][i]=='3':\n",
    "        bvr6[0].append(data_itv[2][i])\n",
    "        bvr6[1].append(data_itv[8][i])\n",
    "    elif data_itv[9][i]=='1' or data_itv[9][i]=='2' or data_itv[9][i]=='3':\n",
    "        bvr7[0].append(data_itv[2][i])\n",
    "        bvr7[1].append(data_itv[9][i])\n",
    "    elif data_itv[10][i]=='1' or data_itv[10][i]=='2' or data_itv[10][i]=='3':\n",
    "        bvr8[0].append(data_itv[2][i])\n",
    "        bvr8[1].append(data_itv[10][i])\n",
    "    elif data_itv[11][i]=='1' or data_itv[11][i]=='2' or data_itv[11][i]=='3':\n",
    "        bvr9[0].append(data_itv[2][i])\n",
    "        bvr9[1].append(data_itv[11][i])\n",
    "    i+=1"
   ]
  },
  {
   "cell_type": "code",
   "execution_count": 5,
   "metadata": {},
   "outputs": [
    {
     "name": "stdout",
     "output_type": "stream",
     "text": [
      "46\n",
      "46\n",
      "46\n",
      "43\n",
      "45\n",
      "45\n",
      "43\n",
      "46\n",
      "44\n"
     ]
    }
   ],
   "source": [
    "print(len(bvr1[0]))\n",
    "print(len(bvr2[0]))\n",
    "print(len(bvr3[0]))\n",
    "print(len(bvr4[0]))\n",
    "print(len(bvr5[0]))\n",
    "print(len(bvr6[0]))\n",
    "print(len(bvr7[0]))\n",
    "print(len(bvr8[0]))\n",
    "print(len(bvr9[0]))"
   ]
  },
  {
   "cell_type": "code",
   "execution_count": 6,
   "metadata": {},
   "outputs": [],
   "source": [
    "#preprocessing casefolding and remove punctuation phase\n",
    "teks1=[];teks2=[];teks3=[];teks4=[];teks5=[];teks6=[];teks7=[];teks8=[];teks9=[]\n",
    "\n",
    "i=0\n",
    "while i<=len(bvr1):\n",
    "    teks1.append(bvr1[0][i])\n",
    "    teks2.append(bvr2[0][i])\n",
    "    teks3.append(bvr3[0][i])\n",
    "    teks8.append(bvr8[0][i])\n",
    "    i+=1\n",
    "    \n",
    "j=0\n",
    "while j<=len(bvr5):\n",
    "    teks5.append(bvr5[0][j])\n",
    "    teks6.append(bvr6[0][j])\n",
    "    j+=1\n",
    "    \n",
    "k=0\n",
    "while k<=len(bvr4):\n",
    "    teks4.append(bvr4[0][k])\n",
    "    teks7.append(bvr7[0][k])\n",
    "    k+=1\n",
    "    \n",
    "m=0\n",
    "while m<=len(bvr9):\n",
    "    teks9.append(bvr9[0][m])\n",
    "    m+=1"
   ]
  },
  {
   "cell_type": "code",
   "execution_count": 7,
   "metadata": {},
   "outputs": [],
   "source": [
    "# delete some word from liststopword and add to liststopword\n",
    "fact = StopWordRemoverFactory()\n",
    "list_stopword = fact.get_stop_words()\n",
    "remove_stopword=['aku','apabila','balik','bisa','bila','bertanya','biasa','biasanya','belum','baik','bekerja','berkeinginan',\n",
    "                'berlebihan','bertanya','bertanya-tanya','bukan','cara','caranya','diri','dapat','dikerjakan','diperlukan',\n",
    "                'enggak','harus','jawab','jangan','jika','kerja','kepada','kalau','lebih','melakukan','mau','mungkin','masalah',\n",
    "                'masalahnya','namun','orang','penting','saya','sudah','sendiri','tadi','terlebih','tidak','tanya','yang']\n",
    "for x in remove_stopword:\n",
    "    for y in list_stopword:\n",
    "        if x==y:\n",
    "            list_stopword.remove(y)\n",
    "\n",
    "add_stopword=['mah','gitu']\n",
    "update_stopword=list_stopword+add_stopword\n",
    "dictionary=ArrayDictionary(update_stopword)"
   ]
  },
  {
   "cell_type": "code",
   "execution_count": null,
   "metadata": {},
   "outputs": [],
   "source": []
  }
 ],
 "metadata": {
  "kernelspec": {
   "display_name": "Python 3",
   "language": "python",
   "name": "python3"
  },
  "language_info": {
   "codemirror_mode": {
    "name": "ipython",
    "version": 3
   },
   "file_extension": ".py",
   "mimetype": "text/x-python",
   "name": "python",
   "nbconvert_exporter": "python",
   "pygments_lexer": "ipython3",
   "version": "3.7.4"
  }
 },
 "nbformat": 4,
 "nbformat_minor": 2
}
